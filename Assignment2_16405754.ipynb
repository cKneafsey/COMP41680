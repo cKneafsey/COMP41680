{
 "cells": [
  {
   "cell_type": "markdown",
   "metadata": {},
   "source": [
    "# Assignment 2\n",
    "## Web Scraping and using Classifiers\n",
    "\n",
    "### Conor Kneafsey\n",
    "### 16405754"
   ]
  },
  {
   "cell_type": "code",
   "execution_count": 1,
   "metadata": {},
   "outputs": [],
   "source": [
    "import urllib.request\n",
    "from bs4 import BeautifulSoup\n",
    "import pandas as pd\n",
    "from sklearn.model_selection import train_test_split\n",
    "from sklearn.feature_extraction.text import TfidfVectorizer\n",
    "from sklearn.neighbors import KNeighborsClassifier\n",
    "from sklearn.metrics import accuracy_score\n",
    "from sklearn.metrics import confusion_matrix\n",
    "import matplotlib.pyplot as plt\n",
    "import seaborn as sb\n",
    "import numpy as np"
   ]
  },
  {
   "cell_type": "markdown",
   "metadata": {},
   "source": [
    "## Task 1 - Data Collection\n",
    "Our first step was to collect the relevant details of the articles containing the 3 chosen categories. For our categories we chose to take articles relating to Politics, Sport and US-News. It would be interesting to see how the classifier would perform with categories that wouldn't be related like Politics and Sport compared to categories that might have more in common with each other like Politics and US-News. \n",
    "\n",
    "To find the link for each month, we have to parse the html and search for the given tag. We then iterated through the total pages for that month and every article within that month. The category for each article was assessed and it was only added if it matched one of the chosen categories. \n",
    "\n",
    "A JSON format was chosen as its hierarchical structure suited the type of information we had while being easy to work with"
   ]
  },
  {
   "cell_type": "code",
   "execution_count": 2,
   "metadata": {
    "scrolled": true
   },
   "outputs": [],
   "source": [
    "# Using the link passed as an argument, try obtain a response and parse the html\n",
    "def htmlParser(link):\n",
    "    try: # try obtain response from link\n",
    "        response = urllib.request.urlopen(link)\n",
    "        html = response.read().decode() # decode the html\n",
    "        parser = BeautifulSoup(html,\"html.parser\") # parse the html\n",
    "    except: # if exception occurs, print message\n",
    "        print('No response from: ', link)\n",
    "    \n",
    "    return parser\n",
    "\n",
    "# Process the parsed info given the chosen categories and return only articles relating to those\n",
    "def processInfo(parser, chosenCat):\n",
    "    flag = 0\n",
    "    i = 0\n",
    "    for match in parser.find_all([\"h5\", \"p\"]):\n",
    "        if i == 1: # only find the titles\n",
    "            lastTitle = match.get_text().lstrip('0123456789.- ') # remove the number before the title\n",
    "\n",
    "        elif i == 3: # only include the categories\n",
    "            if match.get_text().split()[1] in chosenCat: # check if category matches\n",
    "                title.append(lastTitle)\n",
    "                category.append(match.get_text().split()[1]) # remove the \"Category: \" part of the line\n",
    "                flag = 1 # set flag to indicate this article should be saved\n",
    "\n",
    "        elif i == 4: # only include the article text\n",
    "            if flag: \n",
    "                article.append(match.get_text())\n",
    "                flag = 0\n",
    "            i = 0\n",
    "        i += 1\n",
    "    return title, category, article\n",
    "    \n",
    "title = []\n",
    "category = []\n",
    "article = []\n",
    "chosenCat = [\"Politics\", \"Sport\", \"US-News\"] # these are the categories we shall scrape\n",
    "base = \"http://mlg.ucd.ie/modules/COMP41680/assignment2/month-\"\n",
    "month = [\"jan\", \"feb\", \"mar\", \"apr\", \"may\", \"jun\", \"jul\", \"aug\", \"sep\", \"oct\", \"nov\", \"dec\"]\n",
    "end = \"-001.html\"\n",
    "for m in month:\n",
    "    link = base + m + end\n",
    "    parser = htmlParser(link) # parse the html from the link\n",
    "\n",
    "    for match in parser.find_all(\"h4\"): # find the amount of pages\n",
    "        pgNum = match.get_text().split() # split the string in order to find the amount of pages\n",
    "\n",
    "#     create a link for every page, then parse the html and process the articles\n",
    "    for i in range(1, int(pgNum[-1])+1):\n",
    "        num = '-' + \"%03d\" % i # convert i to string with 3 digits\n",
    "        link = base + m + num + \".html\"\n",
    "        parser = htmlParser(link) # parse the html from the link\n",
    "        title, category, article = processInfo(parser, chosenCat) # process the parsed html\n",
    "df = pd.DataFrame({'Title':title, 'Category':category, 'Article text':article}) # create a dataframe with the given headers\n",
    "df.to_json(r'Articles.json') # output the dataframe to a .json file"
   ]
  },
  {
   "cell_type": "markdown",
   "metadata": {},
   "source": [
    "## Task 2 - Binary Text Classification\n",
    "Our first step is to load in the data from the previously saved JSON file and create a set of documents that would combine the articles title and text. In order to achieve this second step, we created a new column in the dataframe which combined the article title and text"
   ]
  },
  {
   "cell_type": "code",
   "execution_count": 3,
   "metadata": {},
   "outputs": [],
   "source": [
    "df = pd.read_json(\"Articles.json\") # read in the info from the .json file into a dataframe\n",
    "df[\"Doc\"] = df[\"Title\"] + \" \" + df[\"Article text\"] # add another column combining the title and article text"
   ]
  },
  {
   "cell_type": "markdown",
   "metadata": {},
   "source": [
    "### TFIDF Vectorizer\n",
    "In order to use the data in a classifier, we need to do some preprocessing steps first. We chose to use a TF-IDF Vectorizer to help preprocess the data. This is because it can help weigh the importance of some terms while excluding common words that are used that may have no influence of the category of the article. It uses Term Frequency (TF) which is the amount a term appears in a document. The IDF part of the name comes from Inverse Document Frequency which means if  a term appears in lots of documents then it is given a lesser weight as it is not that useful in determining the category\n",
    "\n",
    "### K Nearest Neighbor Classifier\n",
    "The binary classifier we chose to use was the K-nearest neighbor classifier. This was chosen as it is good at categorising text and therefore we can determine the category of that article. It gave us good results and after some trial and error, it was found that 100 nearest neighbours gave us a high accuracy score"
   ]
  },
  {
   "cell_type": "code",
   "execution_count": 4,
   "metadata": {},
   "outputs": [
    {
     "name": "stdout",
     "output_type": "stream",
     "text": [
      "Accuracy for Politics and Sport = 97.38%\n"
     ]
    },
    {
     "data": {
      "image/png": "[encoded data removed]",
      "text/plain": [
       "<Figure size 432x288 with 2 Axes>"
      ]
     },
     "metadata": {
      "needs_background": "light"
     },
     "output_type": "display_data"
    }
   ],
   "source": [
    "# function to take in a dataframe and carry out the necessary preprocessing steps before classification\n",
    "def preProcessing(df_pre):\n",
    "    # split the data into training and target documents\n",
    "    pre_train_docs, pre_test_docs, pre_train_target, pre_test_target = train_test_split(df_pre[\"Doc\"], df_pre[\"Category\"], test_size=0.2)\n",
    "    vectorizer = TfidfVectorizer(stop_words=\"english\", min_df = 5) # use a TFIDF vectorizer\n",
    "    pre_train_X = vectorizer.fit_transform(pre_train_docs) # fit and transform the training documents using our vectorizer\n",
    "    pre_test_X = vectorizer.transform(pre_test_docs) #transform our test documents using our vectorizer\n",
    "    return pre_train_X, pre_test_X, pre_train_target, pre_test_target\n",
    "\n",
    "# function to display the accuracy of our model using an accuracy score and confusion matrices\n",
    "def accuracy(test_target, predicted, cat1, cat2):\n",
    "    acc = round(accuracy_score(test_target, predicted)*100, 2) # calculate the accuracy and convert to a percentage\n",
    "    print(\"Accuracy for \"+cat1+\" and \"+cat2+\" = \"+str(acc)+\"%\")\n",
    "    \n",
    "    confuse = confusion_matrix(test_target, predicted) # make a confusion matrix for the model\n",
    "    plt.figure()\n",
    "    sb.heatmap(confuse, cmap=\"RdYlGn\", xticklabels=[\"N\",\"P\"], yticklabels=[\"N\",\"P\"], annot=True, fmt=\".0f\")\n",
    "    plt.title(\"Confusion Matrix for \"+cat1+\" and \"+cat2)\n",
    "    \n",
    "# function to use the classifier on the train and test documents\n",
    "def classifier_model(df_class):\n",
    "    train_X, test_X, train_target, test_target = preProcessing(df_class)\n",
    "    model = KNeighborsClassifier(n_neighbors=100)\n",
    "    model.fit(train_X, train_target)\n",
    "    predicted = model.predict(test_X)\n",
    "    return test_target, predicted\n",
    "\n",
    "df_class = df.loc[df[\"Category\"] != \"US-News\"] # dataframe that excludes any rows that are categorised as US-News\n",
    "\n",
    "test_target, predicted = classifier_model(df_class) # use the classifier on the new dataframe\n",
    "accuracy(test_target, predicted, chosenCat[0], chosenCat[1]) # display the results of the classifier"
   ]
  },
  {
   "cell_type": "markdown",
   "metadata": {},
   "source": [
    "As we can see, this classifier did very well when deciding whether an article was in the Politics or Sport category. It has an accuracy score of 97.38% which is very high. We can also see from the confusion matrix that it has classified them very well with very few false positives or false negatives. Overall, the choice of a k-nearest neighbour classifier has worked well"
   ]
  },
  {
   "cell_type": "code",
   "execution_count": 5,
   "metadata": {},
   "outputs": [
    {
     "name": "stdout",
     "output_type": "stream",
     "text": [
      "Accuracy for Politics and US-News = 96.69%\n"
     ]
    },
    {
     "data": {
      "image/png": "[encoded data removed]",
      "text/plain": [
       "<Figure size 432x288 with 2 Axes>"
      ]
     },
     "metadata": {
      "needs_background": "light"
     },
     "output_type": "display_data"
    }
   ],
   "source": [
    "df_class = df.loc[df[\"Category\"] != \"Sport\"] # dataframe that excludes any rows that are categorised as Sport\n",
    "\n",
    "test_target, predicted = classifier_model(df_class) # use the classifier on the new dataframe\n",
    "accuracy(test_target, predicted, chosenCat[0], chosenCat[2]) # display the results of the classifier"
   ]
  },
  {
   "cell_type": "markdown",
   "metadata": {},
   "source": [
    "Once again, the classifier has worked well on 2 categories that could  have many similarities between them. We can see the score is 96.69% which is very high and the confusion matrix shows us the false positive and negative rate which is low"
   ]
  },
  {
   "cell_type": "code",
   "execution_count": 6,
   "metadata": {},
   "outputs": [
    {
     "name": "stdout",
     "output_type": "stream",
     "text": [
      "Accuracy for Sport and US-News = 96.01%\n"
     ]
    },
    {
     "data": {
      "image/png": "[encoded data removed]",
      "text/plain": [
       "<Figure size 432x288 with 2 Axes>"
      ]
     },
     "metadata": {
      "needs_background": "light"
     },
     "output_type": "display_data"
    }
   ],
   "source": [
    "df_class = df.loc[df[\"Category\"] != \"Politics\"] # dataframe that excludes any rows that are categorised as Politics\n",
    "\n",
    "test_target, predicted = classifier_model(df_class) # use the classifier on the new dataframe\n",
    "accuracy(test_target, predicted, chosenCat[1], chosenCat[2]) # display the results of the classifier"
   ]
  },
  {
   "cell_type": "markdown",
   "metadata": {},
   "source": [
    "We can conclude that the k nearest neighbour classifer with 100 neighbours worked extremely well at defining the categories of the articels with all 3 pairs having an accuracy above 96% and their confusion matrices having a low amount of false negatives and positives"
   ]
  },
  {
   "cell_type": "markdown",
   "metadata": {},
   "source": [
    "## Task 3 - Multi-Class Text Classification\n",
    "This task was similar to our last one but instead of using a binary classifier, we had to use a multi-class classifier to work on all 3 categories at once. We chose to use the same preprocessing steps as before as their relevance still applied. We also chose to use the K nearest neighbour classifier as it can also work for multi-class classification and it meant we could re-use the same code we had previously written. The performance was still very high so the k nearest neighbour was a good choice for multi class classification\n",
    "\n",
    "We did have to update our accuracy function as it would not work for a multi-class classification. We still used the accuracy_score function to display how well the classifier performed. We adjusted the confusion matrix so it displayed a 3x3 matrix instead showing how each category was predicted compared to their actual category"
   ]
  },
  {
   "cell_type": "code",
   "execution_count": 7,
   "metadata": {},
   "outputs": [
    {
     "name": "stdout",
     "output_type": "stream",
     "text": [
      "Accuracy of the multi-class classifer = 94.86%\n"
     ]
    },
    {
     "data": {
      "image/png": "[encoded data removed]",
      "text/plain": [
       "<Figure size 432x288 with 2 Axes>"
      ]
     },
     "metadata": {
      "needs_background": "light"
     },
     "output_type": "display_data"
    }
   ],
   "source": [
    "# Function to display accuracy of multi-class classifier\n",
    "def acc_multi_class(test_target, predicted):\n",
    "    acc = round(accuracy_score(test_target, predicted)*100, 2) # round accuracy and display as percentage\n",
    "    print(\"Accuracy of the multi-class classifer = \"+str(acc)+\"%\")\n",
    "    \n",
    "    confuse = confusion_matrix(test_target, predicted) # make a confusion matrix for the mulit-class classifier\n",
    "    plt.figure()\n",
    "    sb.heatmap(confuse, cmap=\"RdYlGn\", annot=True, fmt=\".0f\", xticklabels=chosenCat, yticklabels=chosenCat)\n",
    "    plt.title(\"Confusion Matrix for the multi-class classifer\")\n",
    "    plt.xlabel(\"True Class\")\n",
    "    plt.ylabel(\"Predicted Class\")\n",
    "\n",
    "test_target, predicted = classifier_model(df) # use the classifier on the complete dataframe containing all categories\n",
    "acc_multi_class(test_target, predicted) # display the accuracy of the classifier"
   ]
  },
  {
   "cell_type": "markdown",
   "metadata": {},
   "source": [
    "We can see that the k nearest neighbour classifier still performed very well at this task. However, we do note that it is lower at 94.86% than when it was used as a binary classifier. This is to be expected as there are more categories so it is more likey something could be classsified wrong. However, when viewing the confusion matrix, we can see that there are still very few wrongly classified articles, particularly when looking at the Sport category.\n",
    "\n",
    "Overall the k nearest neighbour has performed very well in conjuction with the TFI-DF vectorizer for both binary and multi-class classification. We can see how useful they are in text classification tasks after this assignment using them on data obtained from web scraped articles."
   ]
  }
 ],
 "metadata": {
  "kernelspec": {
   "display_name": "Python 3",
   "language": "python",
   "name": "python3"
  },
  "language_info": {
   "codemirror_mode": {
    "name": "ipython",
    "version": 3
   },
   "file_extension": ".py",
   "mimetype": "text/x-python",
   "name": "python",
   "nbconvert_exporter": "python",
   "pygments_lexer": "ipython3",
   "version": "3.8.5"
  }
 },
 "nbformat": 4,
 "nbformat_minor": 4
}
